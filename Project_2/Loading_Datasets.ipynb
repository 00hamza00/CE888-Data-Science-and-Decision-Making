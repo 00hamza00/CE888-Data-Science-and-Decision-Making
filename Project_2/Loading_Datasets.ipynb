{
  "nbformat": 4,
  "nbformat_minor": 0,
  "metadata": {
    "colab": {
      "name": "Loading_Datasets.ipynb",
      "provenance": [],
      "toc_visible": true,
      "mount_file_id": "1L9zOBHCGfLMQZfvxJodqbYMAKInVSMCs",
      "authorship_tag": "ABX9TyO/nvC2GpVB2AUkksSnKa3c",
      "include_colab_link": true
    },
    "kernelspec": {
      "name": "python3",
      "display_name": "Python 3"
    }
  },
  "cells": [
    {
      "cell_type": "markdown",
      "metadata": {
        "id": "view-in-github",
        "colab_type": "text"
      },
      "source": [
        "<a href=\"https://colab.research.google.com/github/00hamza00/Data-Science-and-Decision-Making/blob/master/Project_2/Loading_Datasets.ipynb\" target=\"_parent\"><img src=\"https://colab.research.google.com/assets/colab-badge.svg\" alt=\"Open In Colab\"/></a>"
      ]
    },
    {
      "cell_type": "code",
      "metadata": {
        "id": "3yUqTjDAXYuZ",
        "colab_type": "code",
        "colab": {}
      },
      "source": [
        "import pandas as pd\n",
        "from collections import Counter\n",
        "import matplotlib.pyplot as plt\n",
        "import seaborn as sns\n",
        "import random"
      ],
      "execution_count": 0,
      "outputs": []
    },
    {
      "cell_type": "markdown",
      "metadata": {
        "id": "hfvEFqV5dhjj",
        "colab_type": "text"
      },
      "source": [
        "# Credit Card"
      ]
    },
    {
      "cell_type": "code",
      "metadata": {
        "id": "_-O3aI-vYb52",
        "colab_type": "code",
        "colab": {}
      },
      "source": [
        "data = pd.read_csv(\"/content/drive/My Drive/DataSets/creditcard.csv\")\n",
        "#data.head()\n",
        "\n"
      ],
      "execution_count": 0,
      "outputs": []
    },
    {
      "cell_type": "code",
      "metadata": {
        "id": "iSLtSy9md2z2",
        "colab_type": "code",
        "outputId": "f2682374-3ac7-424d-9d1f-ba11fdde325d",
        "colab": {
          "base_uri": "https://localhost:8080/",
          "height": 119
        }
      },
      "source": [
        "class_count = Counter(data['Class'])\n",
        "print(class_count)\n",
        "print(\"Imbalance: \", (class_count[0]/(class_count[0]+class_count[1]))*100, \"%\")\n",
        "\n",
        "#downsampling 0 class in dataset\n",
        "indexNames = data[(data['Class'] == 0)].index\n",
        "percentageToRemove = 0.98 #Removing 98% of 0 class elements\n",
        "toRemove = int(class_count[0] * percentageToRemove)\n",
        "indexesToRemove = random.sample(indexNames.tolist(), toRemove)\n",
        "data = data.drop(indexesToRemove)\n",
        "class_count = Counter(data['Class'])\n",
        "print(\"\\nDataSet 2 after downsampling\\nImbalance: \", (class_count[0]/(class_count[0]+class_count[1]))*100, \"%\")\n",
        "print(class_count)\n",
        "\n"
      ],
      "execution_count": 70,
      "outputs": [
        {
          "output_type": "stream",
          "text": [
            "Counter({0: 284315, 1: 492})\n",
            "Imbalance:  99.82725143693798 %\n",
            "\n",
            "DataSet 2 after downsampling\n",
            "Imbalance:  92.03754652856449 %\n",
            "Counter({0: 5687, 1: 492})\n"
          ],
          "name": "stdout"
        }
      ]
    },
    {
      "cell_type": "code",
      "metadata": {
        "id": "hi7UVze1d3Be",
        "colab_type": "code",
        "outputId": "bd4f18a7-05b7-4791-cf64-4047db6bd652",
        "colab": {
          "base_uri": "https://localhost:8080/",
          "height": 279
        }
      },
      "source": [
        "\n",
        "data['Class'].value_counts().head(2).plot(kind='bar')\n",
        "plt.plot()"
      ],
      "execution_count": 73,
      "outputs": [
        {
          "output_type": "execute_result",
          "data": {
            "text/plain": [
              "[]"
            ]
          },
          "metadata": {
            "tags": []
          },
          "execution_count": 73
        },
        {
          "output_type": "display_data",
          "data": {
            "image/png": "[encoded data removed]",
            "text/plain": [
              "<Figure size 432x288 with 1 Axes>"
            ]
          },
          "metadata": {
            "tags": []
          }
        }
      ]
    },
    {
      "cell_type": "markdown",
      "metadata": {
        "id": "Kk5kGUdTrd_U",
        "colab_type": "text"
      },
      "source": [
        "# Breast Cancer"
      ]
    },
    {
      "cell_type": "code",
      "metadata": {
        "id": "-ycpCS5SYbxb",
        "colab_type": "code",
        "outputId": "9fd2ea4b-8865-48b2-cd7c-859d778ec761",
        "colab": {
          "base_uri": "https://localhost:8080/",
          "height": 34
        }
      },
      "source": [
        "data3 = pd.read_csv(\"/content/drive/My Drive/DataSets/data.csv\")\n",
        "\n",
        "data3 = data3.replace(to_replace =\"B\", value =0)\n",
        "data3 = data3.replace(to_replace =\"M\", value =1)\n",
        "\n",
        "data3.head()\n",
        "\n",
        "cancer_count = Counter(data3['diagnosis'])\n",
        "print(cancer_count)                   "
      ],
      "execution_count": 3,
      "outputs": [
        {
          "output_type": "stream",
          "text": [
            "Counter({0: 357, 1: 212})\n"
          ],
          "name": "stdout"
        }
      ]
    },
    {
      "cell_type": "code",
      "metadata": {
        "id": "GhrkpnlnsubI",
        "colab_type": "code",
        "outputId": "ac562cab-02d5-4dd4-bc08-2194ce79eae6",
        "colab": {
          "base_uri": "https://localhost:8080/",
          "height": 296
        }
      },
      "source": [
        "print(\"Imbalance: \", (survival_count[0]/(survival_count[0]+survival_count[1]))*100, \"%\")\n",
        "\n",
        "\n",
        "data3['diagnosis'].value_counts().head(2).plot(kind='bar')\n",
        "\n",
        "plt.plot()"
      ],
      "execution_count": 75,
      "outputs": [
        {
          "output_type": "stream",
          "text": [
            "Imbalance:  62.741652021089635 %\n"
          ],
          "name": "stdout"
        },
        {
          "output_type": "execute_result",
          "data": {
            "text/plain": [
              "[]"
            ]
          },
          "metadata": {
            "tags": []
          },
          "execution_count": 75
        },
        {
          "output_type": "display_data",
          "data": {
            "image/png": "[encoded data removed]",
            "text/plain": [
              "<Figure size 432x288 with 1 Axes>"
            ]
          },
          "metadata": {
            "tags": []
          }
        }
      ]
    },
    {
      "cell_type": "markdown",
      "metadata": {
        "id": "nHNs9j9ySLbQ",
        "colab_type": "text"
      },
      "source": [
        "# Income Evaluation"
      ]
    },
    {
      "cell_type": "code",
      "metadata": {
        "id": "VLhnOjHx_KXF",
        "colab_type": "code",
        "colab": {
          "base_uri": "https://localhost:8080/",
          "height": 313
        },
        "outputId": "4602b34e-b532-4724-e546-58ab5760a267"
      },
      "source": [
        "data4 = pd.read_csv(\"/content/drive/My Drive/DataSets/income_evaluation.csv\")\n",
        "income_count = Counter(data4['income>50k'])\n",
        "print(income_count)\n",
        "print(\"Imbalance: \", (income_count[0]/(income_count[0]+income_count[1]))*100, \"%\")\n",
        "data4['income>50k'].value_counts().head(2).plot(kind='bar')\n",
        "plt.plot()"
      ],
      "execution_count": 77,
      "outputs": [
        {
          "output_type": "stream",
          "text": [
            "Counter({0: 24720, 1: 7841})\n",
            "Imbalance:  75.91904425539757 %\n"
          ],
          "name": "stdout"
        },
        {
          "output_type": "execute_result",
          "data": {
            "text/plain": [
              "[]"
            ]
          },
          "metadata": {
            "tags": []
          },
          "execution_count": 77
        },
        {
          "output_type": "display_data",
          "data": {
            "image/png": "[encoded data removed]",
            "text/plain": [
              "<Figure size 432x288 with 1 Axes>"
            ]
          },
          "metadata": {
            "tags": []
          }
        }
      ]
    }
  ]
}
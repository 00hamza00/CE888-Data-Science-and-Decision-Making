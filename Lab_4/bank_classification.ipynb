{
  "nbformat": 4,
  "nbformat_minor": 0,
  "metadata": {
    "colab": {
      "name": "bank_classification.ipynb",
      "provenance": [],
      "authorship_tag": "ABX9TyNYRzGVmENxYsZlJAQPN0nq",
      "include_colab_link": true
    },
    "kernelspec": {
      "name": "python3",
      "display_name": "Python 3"
    }
  },
  "cells": [
    {
      "cell_type": "markdown",
      "metadata": {
        "id": "view-in-github",
        "colab_type": "text"
      },
      "source": [
        "<a href=\"https://colab.research.google.com/github/00hamza00/Data-Science-and-Decision-Making/blob/master/Lab4/bank_classification.ipynb\" target=\"_parent\"><img src=\"https://colab.research.google.com/assets/colab-badge.svg\" alt=\"Open In Colab\"/></a>"
      ]
    },
    {
      "cell_type": "code",
      "metadata": {
        "id": "z4Wyngo98EFC",
        "colab_type": "code",
        "colab": {}
      },
      "source": [
        "import matplotlib\n",
        "import numpy as np\n",
        "import matplotlib.pyplot as plt\n",
        "import pandas as pd\n",
        "import seaborn as sns\n",
        "import itertools\n",
        "\n",
        "from sklearn.tree import DecisionTreeRegressor\n",
        "from sklearn.ensemble import RandomForestClassifier, ExtraTreesClassifier\n",
        "from sklearn.model_selection import cross_val_score\n",
        "from sklearn.metrics import mean_squared_error as mse\n",
        "from sklearn.metrics import mean_absolute_error as mae\n",
        "from sklearn.metrics import accuracy_score as acc\n",
        "from sklearn.metrics import make_scorer, confusion_matrix\n",
        "from sklearn.dummy import DummyRegressor, DummyClassifier\n",
        "from sklearn.preprocessing import LabelEncoder"
      ],
      "execution_count": 0,
      "outputs": []
    },
    {
      "cell_type": "code",
      "metadata": {
        "id": "xRAI-gbc8kgI",
        "colab_type": "code",
        "colab": {}
      },
      "source": [
        "df_bank = pd.read_csv('https://raw.githubusercontent.com/albanda/CE888/master/lab4/bank-additional-full.csv',\n",
        "                      delimiter=';')\n",
        "\n",
        "df_dummies = pd.get_dummies(df_bank)"
      ],
      "execution_count": 0,
      "outputs": []
    },
    {
      "cell_type": "code",
      "metadata": {
        "id": "uwfpCaUM9XGA",
        "colab_type": "code",
        "colab": {}
      },
      "source": [
        "df_bank.head()"
      ],
      "execution_count": 0,
      "outputs": []
    },
    {
      "cell_type": "code",
      "metadata": {
        "id": "Y7NYAgRp8kmG",
        "colab_type": "code",
        "colab": {}
      },
      "source": [
        "df_copy = df_bank.copy()\n",
        "df_dummies.head()"
      ],
      "execution_count": 0,
      "outputs": []
    },
    {
      "cell_type": "code",
      "metadata": {
        "id": "2NovEwnn8kon",
        "colab_type": "code",
        "colab": {}
      },
      "source": [
        "df_dummies = df_dummies.drop(['duration','y_no'], axis=1)"
      ],
      "execution_count": 0,
      "outputs": []
    },
    {
      "cell_type": "code",
      "metadata": {
        "id": "k58XZi8X8krG",
        "colab_type": "code",
        "colab": {
          "base_uri": "https://localhost:8080/",
          "height": 315
        },
        "outputId": "007d0304-f4dc-46dc-d64c-bbd626e01419"
      },
      "source": [
        "df_dummies.hist(column='y_yes')"
      ],
      "execution_count": 65,
      "outputs": [
        {
          "output_type": "execute_result",
          "data": {
            "text/plain": [
              "array([[<matplotlib.axes._subplots.AxesSubplot object at 0x7f946de08198>]],\n",
              "      dtype=object)"
            ]
          },
          "metadata": {
            "tags": []
          },
          "execution_count": 65
        },
        {
          "output_type": "display_data",
          "data": {
            "image/png": "[encoded data removed]",
            "text/plain": [
              "<Figure size 432x288 with 1 Axes>"
            ]
          },
          "metadata": {
            "tags": []
          }
        }
      ]
    },
    {
      "cell_type": "code",
      "metadata": {
        "id": "Scpuz6is8kto",
        "colab_type": "code",
        "colab": {}
      },
      "source": [
        "from sklearn.ensemble import ExtraTreesClassifier\n",
        "\n",
        "y=df_dummies['y_yes']\n",
        "X= df_dummies.drop(['y_yes'], axis=1)\n",
        "\n",
        "clf = ExtraTreesClassifier(n_estimators=100, random_state=0)\n",
        "clf.fit(X,y)\n",
        "ExtraTreesClassifier(random_state=0)\n",
        "\n"
      ],
      "execution_count": 0,
      "outputs": []
    },
    {
      "cell_type": "code",
      "metadata": {
        "id": "EQJPQsPt8k0o",
        "colab_type": "code",
        "colab": {
          "base_uri": "https://localhost:8080/",
          "height": 51
        },
        "outputId": "94fa9235-8020-43af-8b8c-887f582539d6"
      },
      "source": [
        "scores = cross_val_score(clf, X, y, cv=10,scoring = make_scorer(acc))\n",
        "\n",
        "print(scores)"
      ],
      "execution_count": 69,
      "outputs": [
        {
          "output_type": "stream",
          "text": [
            "[0.8873513  0.86064579 0.31803836 0.77421704 0.73974266 0.43408594\n",
            " 0.34158776 0.16314639 0.47935891 0.25959203]\n"
          ],
          "name": "stdout"
        }
      ]
    },
    {
      "cell_type": "code",
      "metadata": {
        "id": "i9rgxpYG8k6X",
        "colab_type": "code",
        "colab": {
          "base_uri": "https://localhost:8080/",
          "height": 1000
        },
        "outputId": "cbdb6a4f-2b6a-404f-c6f5-ce1de644365a"
      },
      "source": [
        "importances = clf.feature_importances_\n",
        "std = np.std([tree.feature_importances_ for tree in clf.estimators_],\n",
        "             axis=0)\n",
        "indices = np.argsort(importances)[::-1]\n",
        "print(indices)\n",
        "# Print the feature ranking\n",
        "print(\"Feature ranking:\")\n",
        "\n",
        "for f in range(X.shape[1]):\n",
        "    print(\"%d. %s (%f)\" % (f + 1, X.columns[indices[f]],  importances[indices[f]]))\n",
        "\n",
        "# Plot the feature importances of the forest\n",
        "fig = plt.figure()\n",
        "plt.title(\"Feature importances\")\n",
        "plt.bar(range(X.shape[1]), importances[indices],\n",
        "       color=\"r\", yerr=std[indices], align=\"center\")\n",
        "plt.xticks(range(X.shape[1]), np.array(X.columns)[indices])\n",
        "plt.xlim([-1, X.shape[1]])\n",
        "fig.set_size_inches(15,8)\n",
        "axes = plt.gca()\n",
        "axes.set_ylim([0,None])"
      ],
      "execution_count": 71,
      "outputs": [
        {
          "output_type": "stream",
          "text": [
            "[ 0  1  7  2  8 61  4 36 38  9  5 22 28 31  6 56 55 23 58 57 18 54 39 41\n",
            " 30  3 27 21 10 50 13 16 42 59 14 25 60 43 32 33 34 52 26 49 15 17 11 19\n",
            " 44 12 48 51 47 53 45 20 37 40 46 24 29 35]\n",
            "Feature ranking:\n",
            "1. age (0.157143)\n",
            "2. campaign (0.104946)\n",
            "3. euribor3m (0.097781)\n",
            "4. pdays (0.040962)\n",
            "5. nr.employed (0.038909)\n",
            "6. poutcome_success (0.028999)\n",
            "7. emp.var.rate (0.027201)\n",
            "8. housing_no (0.020429)\n",
            "9. housing_yes (0.020414)\n",
            "10. job_admin. (0.017378)\n",
            "11. cons.price.idx (0.016786)\n",
            "12. marital_married (0.016761)\n",
            "13. education_high.school (0.015962)\n",
            "14. education_university.degree (0.015374)\n",
            "15. cons.conf.idx (0.015197)\n",
            "16. day_of_week_thu (0.014847)\n",
            "17. day_of_week_mon (0.014783)\n",
            "18. marital_single (0.014575)\n",
            "19. day_of_week_wed (0.014524)\n",
            "20. day_of_week_tue (0.014436)\n",
            "21. job_technician (0.014197)\n",
            "22. day_of_week_fri (0.013967)\n",
            "23. loan_no (0.013815)\n",
            "24. loan_yes (0.013675)\n",
            "25. education_professional.course (0.012111)\n",
            "26. previous (0.011796)\n",
            "27. education_basic.9y (0.011203)\n",
            "28. marital_divorced (0.011055)\n",
            "29. job_blue-collar (0.010883)\n",
            "30. month_may (0.009311)\n",
            "31. job_management (0.009273)\n",
            "32. job_services (0.008827)\n",
            "33. contact_cellular (0.008692)\n",
            "34. poutcome_failure (0.008665)\n",
            "35. job_retired (0.008565)\n",
            "36. education_basic.4y (0.008298)\n",
            "37. poutcome_nonexistent (0.008209)\n",
            "38. contact_telephone (0.008074)\n",
            "39. education_unknown (0.007379)\n",
            "40. default_no (0.007187)\n",
            "41. default_unknown (0.006937)\n",
            "42. month_oct (0.006832)\n",
            "43. education_basic.6y (0.006611)\n",
            "44. month_mar (0.006586)\n",
            "45. job_self-employed (0.006452)\n",
            "46. job_student (0.005977)\n",
            "47. job_entrepreneur (0.005800)\n",
            "48. job_unemployed (0.005578)\n",
            "49. month_apr (0.004718)\n",
            "50. job_housemaid (0.004594)\n",
            "51. month_jun (0.004105)\n",
            "52. month_nov (0.003511)\n",
            "53. month_jul (0.003431)\n",
            "54. month_sep (0.003361)\n",
            "55. month_aug (0.003066)\n",
            "56. job_unknown (0.002630)\n",
            "57. housing_unknown (0.002439)\n",
            "58. loan_unknown (0.002427)\n",
            "59. month_dec (0.001246)\n",
            "60. marital_unknown (0.000884)\n",
            "61. education_illiterate (0.000222)\n",
            "62. default_yes (0.000002)\n"
          ],
          "name": "stdout"
        },
        {
          "output_type": "execute_result",
          "data": {
            "text/plain": [
              "(0, 0.17076014307410048)"
            ]
          },
          "metadata": {
            "tags": []
          },
          "execution_count": 71
        },
        {
          "output_type": "display_data",
          "data": {
            "image/png": "[encoded data removed]",
            "text/plain": [
              "<Figure size 1080x576 with 1 Axes>"
            ]
          },
          "metadata": {
            "tags": []
          }
        }
      ]
    },
    {
      "cell_type": "code",
      "metadata": {
        "id": "6nQTlst3TOBX",
        "colab_type": "code",
        "colab": {}
      },
      "source": [
        "def plot_confusion_matrix(cm, classes,\n",
        "                          normalize=False,\n",
        "                          title='Confusion matrix',\n",
        "                          cmap=plt.cm.Blues):\n",
        "    \"\"\"\n",
        "    This function prints and plots the confusion matrix.\n",
        "    Normalization can be applied by setting `normalize=True`.\n",
        "    \"\"\"\n",
        "    if normalize:\n",
        "        cm = cm.astype('float') / cm.sum(axis=1)[:, np.newaxis]\n",
        "        print(\"Normalized confusion matrix\")\n",
        "    else:\n",
        "        print('Confusion matrix, without normalization')\n",
        "    plt.imshow(cm, interpolation='nearest', cmap=cmap)\n",
        "    plt.title(title)\n",
        "    plt.colorbar()\n",
        "    tick_marks = np.arange(len(classes))\n",
        "    plt.xticks(tick_marks, classes, rotation=45)\n",
        "    plt.yticks(tick_marks, classes)\n",
        "    thresh = cm.max() / 2.\n",
        "    for i, j in itertools.product(range(cm.shape[0]), range(cm.shape[1])):\n",
        "        t = \"(%.2f)\"%(cm[i, j])\n",
        "    plt.tight_layout()\n",
        "    plt.ylabel('True label')\n",
        "    plt.xlabel('Predicted label')"
      ],
      "execution_count": 0,
      "outputs": []
    },
    {
      "cell_type": "code",
      "metadata": {
        "id": "rUw_GNyiTODu",
        "colab_type": "code",
        "colab": {
          "base_uri": "https://localhost:8080/",
          "height": 328
        },
        "outputId": "4ce2231c-821e-45b4-ce13-fdb3c8329e9d"
      },
      "source": [
        "y_pred = clf.predict(X)\n",
        "cnf_matrix = confusion_matrix(y, y_pred)\n",
        "np.set_printoptions(precision=2)\n",
        "\n",
        "# Plot non-normalized confusion matrix\n",
        "plt.figure()\n",
        "plot_confusion_matrix(cnf_matrix, classes=range(len(set(y))), normalize = True,\n",
        "                      title='Confusion matrix')"
      ],
      "execution_count": 73,
      "outputs": [
        {
          "output_type": "stream",
          "text": [
            "Normalized confusion matrix\n"
          ],
          "name": "stdout"
        },
        {
          "output_type": "display_data",
          "data": {
            "image/png": "[encoded data removed]",
            "text/plain": [
              "<Figure size 432x288 with 2 Axes>"
            ]
          },
          "metadata": {
            "tags": []
          }
        }
      ]
    },
    {
      "cell_type": "code",
      "metadata": {
        "id": "x4tAdyIXTOO1",
        "colab_type": "code",
        "colab": {}
      },
      "source": [
        ""
      ],
      "execution_count": 0,
      "outputs": []
    }
  ]
}
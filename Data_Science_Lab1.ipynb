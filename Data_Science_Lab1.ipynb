{
  "nbformat": 4,
  "nbformat_minor": 0,
  "metadata": {
    "colab": {
      "name": "Data_Science_Lab1.ipynb",
      "provenance": [],
      "collapsed_sections": [],
      "include_colab_link": true
    },
    "kernelspec": {
      "name": "python3",
      "display_name": "Python 3"
    }
  },
  "cells": [
    {
      "cell_type": "markdown",
      "metadata": {
        "id": "view-in-github",
        "colab_type": "text"
      },
      "source": [
        "<a href=\"https://colab.research.google.com/github/00hamza00/Data-Science-and-Decision-Making/blob/master/Data_Science_Lab1.ipynb\" target=\"_parent\"><img src=\"https://colab.research.google.com/assets/colab-badge.svg\" alt=\"Open In Colab\"/></a>"
      ]
    },
    {
      "cell_type": "markdown",
      "metadata": {
        "id": "TJsHDVU--dw2",
        "colab_type": "text"
      },
      "source": [
        "# 1) Integer array 4x2"
      ]
    },
    {
      "cell_type": "code",
      "metadata": {
        "id": "n-S9-N8Z1XlF",
        "colab_type": "code",
        "outputId": "7fd96f59-e685-45e7-f7ec-b17c606b7c0f",
        "colab": {
          "base_uri": "https://localhost:8080/",
          "height": 126
        }
      },
      "source": [
        "import numpy as np\n",
        "x = np.array([[0,2],[4,6],[8,10],[12,14]])\n",
        "print(x.ndim)\n",
        "print(x.shape)\n",
        "print(x)"
      ],
      "execution_count": 0,
      "outputs": [
        {
          "output_type": "stream",
          "text": [
            "2\n",
            "(4, 2)\n",
            "[[ 0  2]\n",
            " [ 4  6]\n",
            " [ 8 10]\n",
            " [12 14]]\n"
          ],
          "name": "stdout"
        }
      ]
    },
    {
      "cell_type": "markdown",
      "metadata": {
        "id": "5pSkht65_BD3",
        "colab_type": "text"
      },
      "source": [
        "# 2) Create an array of dimension (1,10) and sort it in ascending and descending order"
      ]
    },
    {
      "cell_type": "code",
      "metadata": {
        "id": "4dn5aokX9_03",
        "colab_type": "code",
        "outputId": "f0e4b18c-5027-486c-a3ac-d28bca4452a7",
        "colab": {
          "base_uri": "https://localhost:8080/",
          "height": 54
        }
      },
      "source": [
        "x = np.array([1,7,21,4,3,68,5,8,19,0])\n",
        "print('ascending order : ',np.sort(x))\n",
        "print('descending order : ', np.sort(x)[::-1])"
      ],
      "execution_count": 0,
      "outputs": [
        {
          "output_type": "stream",
          "text": [
            "ascending order :  [ 0  1  3  4  5  7  8 19 21 68]\n",
            "descending order :  [68 21 19  8  7  5  4  3  1  0]\n"
          ],
          "name": "stdout"
        }
      ]
    },
    {
      "cell_type": "markdown",
      "metadata": {
        "id": "4HkO28v9B5qx",
        "colab_type": "text"
      },
      "source": [
        "# 3) Convert an 1D array [1 2 3 4 5 6 7 8 9] to 2D array [[1 2 3], [4 5 6], [7 8 9]]"
      ]
    },
    {
      "cell_type": "code",
      "metadata": {
        "id": "fxipWNiEAD11",
        "colab_type": "code",
        "outputId": "62e2826b-5557-43d9-b0f3-869b8acbeb43",
        "colab": {
          "base_uri": "https://localhost:8080/",
          "height": 35
        }
      },
      "source": [
        "x = np.array([1,2,3,4,5,6,7,8,9])\n",
        "x = np.split(x,3)\n",
        "print(x)"
      ],
      "execution_count": 0,
      "outputs": [
        {
          "output_type": "stream",
          "text": [
            "[array([1, 2, 3]), array([4, 5, 6]), array([7, 8, 9])]\n"
          ],
          "name": "stdout"
        }
      ]
    },
    {
      "cell_type": "markdown",
      "metadata": {
        "id": "m1_Ih57kELja",
        "colab_type": "text"
      },
      "source": [
        "# 4) Stack two arrays of any size horizontally and vertically"
      ]
    },
    {
      "cell_type": "code",
      "metadata": {
        "id": "QXI1Xe_rCQeq",
        "colab_type": "code",
        "outputId": "b4a801a2-866e-41cc-8523-51bd666927af",
        "colab": {
          "base_uri": "https://localhost:8080/",
          "height": 108
        }
      },
      "source": [
        "x = np.array([1,2,3])\n",
        "y = np.array([4,5,6])\n",
        "print('vertical stack : ',np.stack((x,y)))\n",
        "print('horizontal stack : ',np.stack((x,y),axis = -1))"
      ],
      "execution_count": 0,
      "outputs": [
        {
          "output_type": "stream",
          "text": [
            "vertical stack :  [[1 2 3]\n",
            " [4 5 6]]\n",
            "horizontal stack :  [[1 4]\n",
            " [2 5]\n",
            " [3 6]]\n"
          ],
          "name": "stdout"
        }
      ]
    },
    {
      "cell_type": "markdown",
      "metadata": {
        "id": "TlmROg0yG-Sj",
        "colab_type": "text"
      },
      "source": [
        "# 5) Create two array of same size and find common elements"
      ]
    },
    {
      "cell_type": "code",
      "metadata": {
        "id": "B-7MzRzzFUEc",
        "colab_type": "code",
        "outputId": "de37635f-224b-47fe-cf47-392cf5f3ae96",
        "colab": {
          "base_uri": "https://localhost:8080/",
          "height": 35
        }
      },
      "source": [
        "x= np.array([1,2,2,3,4,11,15,17])\n",
        "y= np.array([5,4,6,7,8,2,11,13])\n",
        "np.intersect1d(x,y)\n",
        "\n"
      ],
      "execution_count": 0,
      "outputs": [
        {
          "output_type": "execute_result",
          "data": {
            "text/plain": [
              "array([ 2,  4, 11])"
            ]
          },
          "metadata": {
            "tags": []
          },
          "execution_count": 12
        }
      ]
    },
    {
      "cell_type": "markdown",
      "metadata": {
        "id": "xV-vLmgXI40L",
        "colab_type": "text"
      },
      "source": [
        "# 6) Create a 2D array of 5 by 5 and find the min and max values from each row and each column"
      ]
    },
    {
      "cell_type": "code",
      "metadata": {
        "id": "64VgEcd6I00D",
        "colab_type": "code",
        "outputId": "c94156a5-b012-44d9-f685-3f138264541a",
        "colab": {
          "base_uri": "https://localhost:8080/",
          "height": 326
        }
      },
      "source": [
        "x = np.arange(25).reshape(5,5)\n",
        "print(x)\n",
        "print('max in column:  ',x.max(axis=0))\n",
        "print('min in column:  ',x.min(axis=0))\n",
        "\n",
        "for i in x:\n",
        "  print('max in :  ',np.amax(i))\n",
        "  print('min in :  ',np.amin(i))"
      ],
      "execution_count": 0,
      "outputs": [
        {
          "output_type": "stream",
          "text": [
            "[[ 0  1  2  3  4]\n",
            " [ 5  6  7  8  9]\n",
            " [10 11 12 13 14]\n",
            " [15 16 17 18 19]\n",
            " [20 21 22 23 24]]\n",
            "max in column:   [20 21 22 23 24]\n",
            "min in column:   [0 1 2 3 4]\n",
            "max in :   4\n",
            "min in :   0\n",
            "max in :   9\n",
            "min in :   5\n",
            "max in :   14\n",
            "min in :   10\n",
            "max in :   19\n",
            "min in :   15\n",
            "max in :   24\n",
            "min in :   20\n"
          ],
          "name": "stdout"
        }
      ]
    },
    {
      "cell_type": "markdown",
      "metadata": {
        "id": "hXGqU3D5NQaY",
        "colab_type": "text"
      },
      "source": [
        "# 7) Create an array of size 100 and  compute the mean, median, standard deviation."
      ]
    },
    {
      "cell_type": "code",
      "metadata": {
        "id": "P3CCk62pJSGG",
        "colab_type": "code",
        "outputId": "c2017737-c376-412c-e27e-6a5e8dbe41b7",
        "colab": {
          "base_uri": "https://localhost:8080/",
          "height": 181
        }
      },
      "source": [
        "x = np.random.randint(200, size = 100)\n",
        "print(x)\n",
        "print('mean: ', np.mean(x))\n",
        "print('median : ',np.median(x))\n",
        "print('std deviation : ', np.std(x))"
      ],
      "execution_count": 0,
      "outputs": [
        {
          "output_type": "stream",
          "text": [
            "[ 44 147 132 172   0 167  80 109  56 195 169 134 195  65 117 173   0  14\n",
            " 139 101 179 114  56 114  25 134  59 114 161 105  79 106   5 178 123  78\n",
            " 146 127   7 107  12 131 148  36  88  28  20  29  99 132 176  57  55 191\n",
            " 175 127 107 179  57 180  49  11  93  59  64 125  60 128 121 126 190 124\n",
            "  85 115 132  10 149  44  11 164 144  62 138 139 140 189  64 131 112   5\n",
            "  11 134  14 135  75  18  92   7 122 151]\n",
            "mean:  99.96\n",
            "median :  113.0\n",
            "std deviation :  56.27075972474514\n"
          ],
          "name": "stdout"
        }
      ]
    },
    {
      "cell_type": "markdown",
      "metadata": {
        "id": "wox7uRaAOpkd",
        "colab_type": "text"
      },
      "source": [
        "# 8) Normalize a 5x5 random matrix "
      ]
    },
    {
      "cell_type": "code",
      "metadata": {
        "id": "KIk_MNv9OSai",
        "colab_type": "code",
        "outputId": "a976b208-ff58-4332-fcf1-5eee0aea9d63",
        "colab": {
          "base_uri": "https://localhost:8080/",
          "height": 199
        }
      },
      "source": [
        "x = np.random.randint(0, 100, (5,5))\n",
        "print(x)\n",
        "from sklearn.preprocessing import normalize\n",
        "normalized = normalize(x, axis=1, norm='l2')\n",
        "print(normalized)"
      ],
      "execution_count": 0,
      "outputs": [
        {
          "output_type": "stream",
          "text": [
            "[[62 89  9 38 53]\n",
            " [20 33 87 66 34]\n",
            " [33 86 79 75 11]\n",
            " [88 15 39 51 10]\n",
            " [68 49 82 38 78]]\n",
            "[[0.48864363 0.70144005 0.07093214 0.29949126 0.41771149]\n",
            " [0.1656915  0.27339097 0.72075801 0.54678194 0.28167554]\n",
            " [0.23063956 0.60106068 0.55213713 0.52418082 0.07687985]\n",
            " [0.7970086  0.13585374 0.35321972 0.46190271 0.09056916]\n",
            " [0.46618008 0.33592388 0.56215834 0.2605124  0.53473598]]\n"
          ],
          "name": "stdout"
        }
      ]
    },
    {
      "cell_type": "markdown",
      "metadata": {
        "id": "f4RbEERVQKEa",
        "colab_type": "text"
      },
      "source": [
        "# 9) Consider an array of dimension (4,4,3), how to mulitply it by an array with dimensions (4,4)?"
      ]
    },
    {
      "cell_type": "code",
      "metadata": {
        "id": "tEQZ_UgrO5DL",
        "colab_type": "code",
        "outputId": "72b31182-4bc3-479d-e42a-4ebdfb6be9fb",
        "colab": {
          "base_uri": "https://localhost:8080/",
          "height": 363
        }
      },
      "source": [
        "x = np.random.randint(99, size=(4,4,3))\n",
        "y = np.random.randint(99 , size = (4,4))\n",
        "print(x * y[:,:,None])"
      ],
      "execution_count": 0,
      "outputs": [
        {
          "output_type": "stream",
          "text": [
            "[[[1612 5044 4992]\n",
            "  [5915 2366 4004]\n",
            "  [  44  174  172]\n",
            "  [3584 1344 1008]]\n",
            "\n",
            " [[1365 1290 1440]\n",
            "  [1768 3944 1496]\n",
            "  [5037 1898 4307]\n",
            "  [2184  234 5148]]\n",
            "\n",
            " [[2816  352   88]\n",
            "  [1681 3567 2296]\n",
            "  [8160 4250 4080]\n",
            "  [1232  660 1760]]\n",
            "\n",
            " [[2640 2190 1260]\n",
            "  [7560 7560 5628]\n",
            "  [ 845 3315 1495]\n",
            "  [2205 3330 2655]]]\n"
          ],
          "name": "stdout"
        }
      ]
    },
    {
      "cell_type": "code",
      "metadata": {
        "id": "2EsOhjB3QyUJ",
        "colab_type": "code",
        "colab": {}
      },
      "source": [
        ""
      ],
      "execution_count": 0,
      "outputs": []
    }
  ]
}